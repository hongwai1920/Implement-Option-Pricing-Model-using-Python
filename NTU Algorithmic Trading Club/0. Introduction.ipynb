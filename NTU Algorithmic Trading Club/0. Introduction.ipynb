{
 "cells": [
  {
   "cell_type": "code",
   "execution_count": null,
   "metadata": {},
   "outputs": [],
   "source": [
    "import numpy as np\n",
    "\n",
    "import pandas as pd\n",
    "from pandas import read_csv\n",
    "from pandas import datetime\n",
    "from pandas import DataFrame\n",
    "from pandas.plotting import autocorrelation_plot\n",
    "\n",
    "import matplotlib.pyplot as plt\n",
    "\n",
    "from statsmodels.graphics.tsaplots import plot_acf\n",
    "from statsmodels.graphics.tsaplots import plot_pacf\n",
    "from statsmodels.tsa.arima_model import ARIMA\n",
    "import statsmodels.api as sm\n",
    "import statsmodels.formula.api as smf\n",
    "import statsmodels.tsa.api as smt\n",
    "\n",
    "import seaborn as sns\n",
    "\n",
    "from sklearn.metrics import mean_squared_error"
   ]
  },
  {
   "cell_type": "code",
   "execution_count": null,
   "metadata": {},
   "outputs": [],
   "source": [
    "def tsplot(y, \n",
    "           lags=None, \n",
    "           title='', \n",
    "           figsize=(14, 8)):\n",
    "    '''Examine the patterns of ACF and PACF, along with the time series plot and histogram.\n",
    "    \n",
    "    Original source: https://tomaugspurger.github.io/modern-7-timeseries.html\n",
    "    '''\n",
    "    fig = plt.figure(figsize=figsize)\n",
    "    layout = (2, 2)\n",
    "    ts_ax   = plt.subplot2grid(layout, (0, 0))\n",
    "    hist_ax = plt.subplot2grid(layout, (0, 1))\n",
    "    acf_ax  = plt.subplot2grid(layout, (1, 0))\n",
    "    pacf_ax = plt.subplot2grid(layout, (1, 1))\n",
    "    \n",
    "    y.plot(ax=ts_ax)\n",
    "    ts_ax.set_title(title)\n",
    "    y.plot(ax=hist_ax, kind='hist', bins=25)\n",
    "    hist_ax.set_title('Histogram')\n",
    "    smt.graphics.plot_acf(y, lags=lags, ax=acf_ax)\n",
    "    smt.graphics.plot_pacf(y, lags=lags, ax=pacf_ax)\n",
    "    [ax.set_xlim(0) for ax in [acf_ax, pacf_ax]]\n",
    "    sns.despine()\n",
    "    plt.tight_layout()\n",
    "    return ts_ax, acf_ax, pacf_ax"
   ]
  },
  {
   "cell_type": "code",
   "execution_count": null,
   "metadata": {},
   "outputs": [],
   "source": [
    "def ARIMA_plot_ki(series, \n",
    "               order,\n",
    "               train_size_percent,\n",
    "               scale=1):\n",
    "    \n",
    "    # Credit to Fong King Ian for providing this code\n",
    "\n",
    "    # convert Series to DataFrame\n",
    "    # remove duplicated rows except for most recent, convert to daily freq, fil blanks with prev observation\n",
    "    X = series.rename(\"actual\").to_frame() \n",
    "    X = X.loc[~X.index.duplicated(keep='last')].asfreq('d', 'ffill')\n",
    "    \n",
    "    # determine where the training set ends and the test set starts\n",
    "    size = int(len(X) * train_size_percent)\n",
    "    first_test_index = X.index[size]\n",
    "        \n",
    "    # forecast out-of-sample value using ARIMA\n",
    "    for t in X[X.index >= first_test_index].index.tolist():\n",
    "        # fit model with 'actual' values up to and excluding time t\n",
    "        model = ARIMA(X[X.index < t]['actual'].values, order)\n",
    "        model_fit = model.fit(disp=0)\n",
    "        \n",
    "        # forecast returns 3 arrays: \n",
    "        # out-of-sample forecast value, std error of the forecast and \n",
    "        # 2d array of the confidence interval for the forecast \n",
    "        \n",
    "        output = model_fit.forecast()\n",
    "        X.loc[t, 'predictions'] = output[0]  # output[0] contains forecast value\n",
    "#        print('predicted = %f, expected = %f' % (output[0], X.at[t, 'actual']))\n",
    "    \n",
    "    # aligning predictions with correct time periods, removing rows without predictions\n",
    "    X['predictions'] = X['predictions'].shift(-1)\n",
    "    X.dropna(inplace = True)\n",
    "    \n",
    "    # MSE\n",
    "    error = mean_squared_error(X['actual'].values, X['predictions'].values)\n",
    "    print('Test MSE: %.3f' % error)\n",
    "    \n",
    "    # Scale to avoid exceeding maximum margin of plots\n",
    "    test_scaled = X['actual'].values / scale\n",
    "    predictions_scaled = X['predictions'].values / scale\n",
    "\n",
    "    # plot\n",
    "    plt.plot(test_scaled, color='blue', label='true values')\n",
    "    plt.plot(predictions_scaled, color='red', label=f'estimated ARIMA{order}')\n",
    "    plt.legend(loc='upper left')\n",
    "    plt.show()"
   ]
  },
  {
   "cell_type": "code",
   "execution_count": null,
   "metadata": {},
   "outputs": [],
   "source": [
    "def parser(x):\n",
    "    return datetime.strptime(x, '%Y-%m-%d')"
   ]
  },
  {
   "cell_type": "markdown",
   "metadata": {},
   "source": [
    "======================================================================================================================"
   ]
  },
  {
   "cell_type": "markdown",
   "metadata": {},
   "source": [
    "# Examples of Financial Time Series"
   ]
  },
  {
   "cell_type": "code",
   "execution_count": null,
   "metadata": {},
   "outputs": [],
   "source": [
    "# Download Bitcoin's, Amazon's and Apple's historical price from Yahoo Finance as csv files\n",
    "BitCoin = read_csv('BTC-USD.csv', \n",
    "                    header = 0, \n",
    "                    parse_dates = [0],  \n",
    "                    index_col = 0, \n",
    "                    squeeze = True, \n",
    "                    date_parser = parser)\n",
    "\n",
    "Amazon = read_csv('amzn.csv',  \n",
    "                  header = 0, \n",
    "                  parse_dates = [0],\n",
    "                  index_col = 0,\n",
    "                  squeeze = True,\n",
    "                 date_parser = parser)\n",
    "\n",
    "AAPL = read_csv('AAPL.csv',\n",
    "                  header = 0, \n",
    "                  parse_dates = [0],  \n",
    "                  index_col = 0, \n",
    "                  squeeze = True, \n",
    "                  date_parser = parser)"
   ]
  },
  {
   "cell_type": "code",
   "execution_count": null,
   "metadata": {
    "scrolled": true
   },
   "outputs": [],
   "source": [
    "BitCoin.head()"
   ]
  },
  {
   "cell_type": "code",
   "execution_count": null,
   "metadata": {},
   "outputs": [],
   "source": [
    "BitCoin.info()"
   ]
  },
  {
   "cell_type": "code",
   "execution_count": null,
   "metadata": {},
   "outputs": [],
   "source": [
    "BitCoin.describe()"
   ]
  },
  {
   "cell_type": "code",
   "execution_count": null,
   "metadata": {},
   "outputs": [],
   "source": [
    "Amazon.head()"
   ]
  },
  {
   "cell_type": "code",
   "execution_count": null,
   "metadata": {},
   "outputs": [],
   "source": [
    "Amazon.info()"
   ]
  },
  {
   "cell_type": "code",
   "execution_count": null,
   "metadata": {},
   "outputs": [],
   "source": [
    "AAPL.head()"
   ]
  },
  {
   "cell_type": "code",
   "execution_count": null,
   "metadata": {},
   "outputs": [],
   "source": [
    "AAPL.info()"
   ]
  },
  {
   "cell_type": "code",
   "execution_count": null,
   "metadata": {},
   "outputs": [],
   "source": [
    "tsplot(BitCoin['High'], title='Bitcoin')"
   ]
  },
  {
   "cell_type": "code",
   "execution_count": null,
   "metadata": {},
   "outputs": [],
   "source": [
    "tsplot(Amazon['High'], title='Amazon')"
   ]
  },
  {
   "cell_type": "code",
   "execution_count": null,
   "metadata": {},
   "outputs": [],
   "source": [
    "tsplot(AAPL['High'], title='Apple')"
   ]
  },
  {
   "cell_type": "markdown",
   "metadata": {},
   "source": [
    "======================================================================================================================"
   ]
  },
  {
   "cell_type": "markdown",
   "metadata": {},
   "source": [
    "# Forecasting"
   ]
  },
  {
   "cell_type": "code",
   "execution_count": null,
   "metadata": {
    "scrolled": true
   },
   "outputs": [],
   "source": [
    "ARIMA_plot_ki(series = BitCoin['High'], \n",
    "              order = (5,1,0), \n",
    "              train_size_percent = 0.9, \n",
    "              scale = 1000)"
   ]
  },
  {
   "cell_type": "code",
   "execution_count": null,
   "metadata": {
    "scrolled": false
   },
   "outputs": [],
   "source": [
    "x = ARIMA_plot_ki(series = Amazon['High'], \n",
    "                  order = (2,2,2), \n",
    "                  train_size_percent = 0.9, \n",
    "                  scale = 1000)"
   ]
  },
  {
   "cell_type": "code",
   "execution_count": null,
   "metadata": {},
   "outputs": [],
   "source": [
    "ARIMA_plot_ki(series = AAPL['High'], \n",
    "              order = (5,2,0), \n",
    "              train_size_percent = 0.8)"
   ]
  }
 ],
 "metadata": {
  "kernelspec": {
   "display_name": "Python 3",
   "language": "python",
   "name": "python3"
  },
  "language_info": {
   "codemirror_mode": {
    "name": "ipython",
    "version": 3
   },
   "file_extension": ".py",
   "mimetype": "text/x-python",
   "name": "python",
   "nbconvert_exporter": "python",
   "pygments_lexer": "ipython3",
   "version": "3.7.3"
  },
  "toc": {
   "base_numbering": 1,
   "nav_menu": {},
   "number_sections": true,
   "sideBar": true,
   "skip_h1_title": false,
   "title_cell": "Table of Contents",
   "title_sidebar": "Contents",
   "toc_cell": false,
   "toc_position": {},
   "toc_section_display": true,
   "toc_window_display": false
  }
 },
 "nbformat": 4,
 "nbformat_minor": 2
}
