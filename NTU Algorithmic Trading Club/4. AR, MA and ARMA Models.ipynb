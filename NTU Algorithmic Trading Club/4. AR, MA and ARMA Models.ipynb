{
 "cells": [
  {
   "cell_type": "code",
   "execution_count": null,
   "metadata": {},
   "outputs": [],
   "source": [
    "import numpy as np\n",
    "import pandas as pd\n",
    "\n",
    "from pandas.plotting import lag_plot\n",
    "from pandas.plotting import autocorrelation_plot\n",
    "\n",
    "import matplotlib.pyplot as plt\n",
    "\n",
    "from statsmodels.graphics.tsaplots import plot_acf\n",
    "from statsmodels.graphics.tsaplots import plot_pacf\n",
    "from statsmodels.tsa.ar_model import AR\n",
    "from statsmodels.tsa.arima_model import ARMA\n",
    "from statsmodels.tsa.arima_process import ArmaProcess\n",
    "from statsmodels.tsa.arima_model import ARIMA\n",
    "\n",
    "import statsmodels.api as sm\n",
    "import statsmodels.formula.api as smf\n",
    "import statsmodels.tsa.api as smt\n",
    "\n",
    "from sklearn.metrics import mean_squared_error\n",
    "\n",
    "import seaborn as sns"
   ]
  },
  {
   "cell_type": "code",
   "execution_count": null,
   "metadata": {},
   "outputs": [],
   "source": [
    "def tsplot_acf_pacf(x, \n",
    "                    y = None,\n",
    "                    z = None, \n",
    "                    a = None, \n",
    "                    b = None, \n",
    "                    lags=None, \n",
    "                    layout = (2,2), \n",
    "                    title='', \n",
    "                    figsize=(14, 8)):\n",
    "    '''Examine the patterns of ACF and PACF, along with the time series plot and histogram.\n",
    "    \n",
    "    Original source: https://tomaugspurger.github.io/modern-7-timeseries.html\n",
    "    '''\n",
    "    fig = plt.figure(figsize=figsize)\n",
    "    if layout == (2, 2):\n",
    "        ts_ax   = plt.subplot2grid(layout, (0, 0))\n",
    "        hist_ax = plt.subplot2grid(layout, (0, 1))\n",
    "        acf_ax  = plt.subplot2grid(layout, (1, 0))\n",
    "        pacf_ax = plt.subplot2grid(layout, (1, 1))\n",
    "        x.plot(ax=ts_ax)\n",
    "        ts_ax.set_title(title)\n",
    "        x.plot(ax=hist_ax, kind='hist', bins=25)\n",
    "        hist_ax.set_title('Histogram')\n",
    "        smt.graphics.plot_acf(x, lags=lags, ax=acf_ax)\n",
    "        smt.graphics.plot_pacf(x, lags=lags, ax=pacf_ax)\n",
    "        [ax.set_xlim(0) for ax in [acf_ax, pacf_ax]]\n",
    "        sns.despine()\n",
    "        plt.tight_layout()\n",
    "        return ts_ax, acf_ax, pacf_ax\n",
    "        \n",
    "    elif layout == (3,3):\n",
    "        AR_ax   = plt.subplot2grid(layout, (0, 0))\n",
    "        AR_acf_ax  = plt.subplot2grid(layout, (1, 0))   \n",
    "        AR_pacf_ax = plt.subplot2grid(layout, (2, 0))\n",
    "        MA_ax = plt.subplot2grid(layout, (0, 1))\n",
    "        MA_acf_ax = plt.subplot2grid(layout, (1, 1))\n",
    "        MA_pacf_ax = plt.subplot2grid(layout, (2, 1))\n",
    "        ARMA_ax = plt.subplot2grid(layout, (0, 2))\n",
    "        ARMA_acf_ax = plt.subplot2grid(layout, (1, 2))\n",
    "        ARMA_pacf_ax = plt.subplot2grid(layout, (2, 2))\n",
    "        x.plot(ax=AR_ax)\n",
    "        AR_ax.set_title('AR')\n",
    "        y.plot(ax=MA_ax)\n",
    "        MA_ax.set_title('MA')\n",
    "        z.plot(ax=ARMA_ax)\n",
    "        ARMA_ax.set_title('ARMA')\n",
    "        smt.graphics.plot_acf(x, lags=lags, ax=AR_acf_ax)\n",
    "        smt.graphics.plot_pacf(x, lags=lags, ax=AR_pacf_ax)\n",
    "        smt.graphics.plot_acf(y, lags=lags, ax=MA_acf_ax)\n",
    "        smt.graphics.plot_pacf(y, lags=lags, ax=MA_pacf_ax)\n",
    "        smt.graphics.plot_acf(z, lags=lags, ax=ARMA_acf_ax)\n",
    "        smt.graphics.plot_pacf(z, lags=lags, ax=ARMA_pacf_ax)\n",
    "        sns.despine()\n",
    "        plt.tight_layout()\n",
    "        \n",
    "    elif layout == (5,2):\n",
    "        AR1_acf_ax   = plt.subplot2grid(layout, (0, 0))\n",
    "        AR1_pacf_ax   = plt.subplot2grid(layout, (0, 1))\n",
    "        AR2_acf_ax = plt.subplot2grid(layout, (1, 0))\n",
    "        AR2_pacf_ax = plt.subplot2grid(layout, (1, 1))\n",
    "        AR3_acf_ax  = plt.subplot2grid(layout, (2, 0))\n",
    "        AR3_pacf_ax  = plt.subplot2grid(layout, (2, 1))\n",
    "        AR4_acf_ax = plt.subplot2grid(layout, (3, 0))\n",
    "        AR4_pacf_ax = plt.subplot2grid(layout, (3, 1))\n",
    "        AR5_acf_ax = plt.subplot2grid(layout, (4, 0))\n",
    "        AR5_pacf_ax = plt.subplot2grid(layout, (4, 1))\n",
    "#        x.plot(ax=AR1_acf_ax)\n",
    "#        y.plot(ax=AR2_acf_ax)\n",
    "#        z.plot(ax=AR3_acf_ax)\n",
    "#        a.plot(ax=AR4_acf_ax)\n",
    "#        b.plot(ax=AR5_acf_ax)\n",
    "        smt.graphics.plot_acf(x, lags=lags, ax=AR1_acf_ax)\n",
    "        smt.graphics.plot_pacf(x, lags=lags, ax=AR1_pacf_ax)\n",
    "        smt.graphics.plot_acf(y, lags=lags, ax=AR2_acf_ax)\n",
    "        smt.graphics.plot_pacf(y, lags=lags, ax=AR2_pacf_ax)\n",
    "        smt.graphics.plot_acf(z, lags=lags, ax=AR3_acf_ax)\n",
    "        smt.graphics.plot_pacf(z, lags=lags, ax=AR3_pacf_ax)\n",
    "        smt.graphics.plot_acf(a, lags=lags, ax=AR4_acf_ax)\n",
    "        smt.graphics.plot_pacf(a, lags=lags, ax=AR4_pacf_ax)\n",
    "        smt.graphics.plot_acf(b, lags=lags, ax=AR5_acf_ax)\n",
    "        smt.graphics.plot_pacf(b, lags=lags, ax=AR5_pacf_ax)\n",
    "        sns.despine()\n",
    "        plt.tight_layout()\n",
    "        \n",
    "        \n",
    "    elif layout == (3,2):\n",
    "        AR1_acf_ax   = plt.subplot2grid(layout, (0, 0))\n",
    "        AR1_pacf_ax   = plt.subplot2grid(layout, (0, 1))\n",
    "        AR2_acf_ax = plt.subplot2grid(layout, (1, 0))\n",
    "        AR2_pacf_ax = plt.subplot2grid(layout, (1, 1))\n",
    "        AR3_acf_ax  = plt.subplot2grid(layout, (2, 0))\n",
    "        AR3_pacf_ax  = plt.subplot2grid(layout, (2, 1))\n",
    "        smt.graphics.plot_acf(x, lags=lags, ax=AR1_acf_ax)\n",
    "        smt.graphics.plot_pacf(x, lags=lags, ax=AR1_pacf_ax)\n",
    "        smt.graphics.plot_acf(y, lags=lags, ax=AR2_acf_ax)\n",
    "        smt.graphics.plot_pacf(y, lags=lags, ax=AR2_pacf_ax)\n",
    "        smt.graphics.plot_acf(z, lags=lags, ax=AR3_acf_ax)\n",
    "        smt.graphics.plot_pacf(z, lags=lags, ax=AR3_pacf_ax)\n",
    "        sns.despine()\n",
    "        plt.tight_layout()"
   ]
  },
  {
   "cell_type": "code",
   "execution_count": null,
   "metadata": {},
   "outputs": [],
   "source": [
    "def generate_ARMA_data(order_p, \n",
    "                       order_q, \n",
    "                       nsample = 1000):\n",
    "    ar = np.array(order_p)\n",
    "    ma = np.array(order_q)\n",
    "    data = ArmaProcess(ar,ma)\n",
    "    print('Is the process stationary? {}'.format(data.isstationary))\n",
    "    sample = data.generate_sample(nsample = nsample)\n",
    "    sample_series = pd.Series(sample)\n",
    "    return sample_series"
   ]
  },
  {
   "cell_type": "markdown",
   "metadata": {},
   "source": [
    "=================================================================================================================="
   ]
  },
  {
   "cell_type": "markdown",
   "metadata": {},
   "source": [
    "# Time Series Models"
   ]
  },
  {
   "cell_type": "markdown",
   "metadata": {},
   "source": [
    "## AutoRegressive AR(p) Model"
   ]
  },
  {
   "cell_type": "markdown",
   "metadata": {},
   "source": [
    "* Main idea: Predict future based on its past\n",
    "* Let $\\epsilon_1,\\epsilon_2,...$ be WN$(0,\\sigma_\\epsilon^2).$\n",
    "* $\\{X_t\\}_t$ is an AR$(p)$ process if \n",
    "$$X_t - \\mu = \\phi_1(X_{t-1} - \\mu) + \\phi_2(X_{t-2} - \\mu) + ... + \\phi_p(X_{t-p} - \\mu)   + \\epsilon_t$$\n",
    "for all $t$ where $\\mu$ is the mean of the processs.\n",
    "\n",
    "* Simple algebra leads to \n",
    "$$X_t = \\beta_0 + \\phi_1X_{t-1} + \\phi_2 X_{t-2}+ ... + \\phi_p X_{t-p}  + \\epsilon_t$$\n",
    "where $\\beta_0 = (1 - \\phi_1 - \\phi_2 - \\phi_3 - ... - \\phi_p)\\mu.$ \n",
    "\n",
    "* **Unit root test**: If \n",
    "$$\\phi(L) = 1- \\phi_1 L - \\phi_2 L^2 - \\phi_3 L^3 - ... - \\phi_p L^p$$ \n",
    "has a root whose magnitude is larger than $1,$ then $\\{X_t\\}_t$ is not stationary.\n",
    "\n",
    "* If $p=1,$ then \n",
    "\n",
    "$$X_t = \\mu + \\phi_1(X_{t-1} - \\mu) + \\epsilon_t .$$ \n",
    "\n",
    "Therefore,\n",
    "\n",
    "|  Conditions      |          $X_t$         |\n",
    "|---------------|:--------------------:|\n",
    "| $\\phi_1 = 0$     |    white noise         |\n",
    "| $\\phi_1 < 0$     | mean reversion |\n",
    "| $\\phi_1 > 0$ |    momentum         |\n",
    "| $\\phi_1 = 1$ |    random walk         |\n",
    "| $|\\phi_1| > 1$ |    'explode'         |\n",
    "\n",
    "* The following plots illustrate table above when $p=1$ and $\\mu = 0.$"
   ]
  },
  {
   "cell_type": "code",
   "execution_count": null,
   "metadata": {},
   "outputs": [],
   "source": [
    "# AR(1) paramter = 0\n",
    "AR1_series = generate_ARMA_data( [1,0],[1] )\n",
    "\n",
    "# AR(1) paramter = -0.6\n",
    "AR2_series = generate_ARMA_data( [1,0.6],[1])\n",
    "\n",
    "# AR(1) paramter = 0.4\n",
    "AR3_series = generate_ARMA_data( [1,-0.4],[1])\n",
    "\n",
    "# AR(1) paramter = 1\n",
    "AR4_series = generate_ARMA_data( [1,-1],[1])\n",
    "\n",
    "# AR(1) paramter = 10\n",
    "AR5_series = generate_ARMA_data( [1,-10],[1])"
   ]
  },
  {
   "cell_type": "code",
   "execution_count": null,
   "metadata": {},
   "outputs": [],
   "source": [
    "fig = plt.figure(figsize=(14,8))\n",
    "layout = (3,2)\n",
    "AR1_ax   = plt.subplot2grid(layout, (0, 0))\n",
    "AR2_ax = plt.subplot2grid(layout, (0, 1))\n",
    "AR3_ax  = plt.subplot2grid(layout, (1, 0))\n",
    "AR4_ax = plt.subplot2grid(layout, (1, 1))\n",
    "AR5_ax = plt.subplot2grid(layout, (2, 0))\n",
    "\n",
    "AR1_series.plot(ax = AR1_ax)\n",
    "AR1_ax.set_title('$\\phi = 0$')\n",
    "AR2_series.plot(ax = AR2_ax)\n",
    "AR2_ax.set_title('$\\phi = -0.6$')\n",
    "AR3_series.plot(ax = AR3_ax)\n",
    "AR3_ax.set_title('$\\phi = 0.4$')\n",
    "AR4_series.plot(ax = AR4_ax)\n",
    "AR4_ax.set_title('$\\phi = 1$')\n",
    "AR5_series.plot(ax = AR5_ax)\n",
    "AR5_ax.set_title('$\\phi = 10$')\n",
    "\n",
    "sns.despine()\n",
    "plt.tight_layout()"
   ]
  },
  {
   "cell_type": "markdown",
   "metadata": {},
   "source": [
    "* $AR(1)$ is weakly stationary if and only if $|\\phi|<1.$\n",
    "\n",
    "* If $AR(1)$ is weakly stationary, then one can derive the following formulas.\n",
    "\n",
    "|  $\\phi_{hh} = 0, h\\geq 2$  |     $\\phi_{11} = \\rho(1)$        |     $\\gamma(0) = \\frac{\\sigma_\\epsilon^2}{1 - \\phi^2}$   |\n",
    "|------------------------------------|:--------------------:|:-------------------------------------------------------------------:|\n",
    "| $\\gamma(h) = \\phi^{|h|} \\frac{\\sigma_\\epsilon^2}{1 - \\phi^2} $  |  $\\rho(h) = \\phi^{|h|}$     |   $E(X_t) = \\mu$      | \n",
    "\n",
    "* ACF and PACF of an $AR(1)$ has only limited range of shapes\n",
    "\n",
    "* If the sample ACF of the data does not behave in one of these ways, then an $AR(1)$ model is not suitable."
   ]
  },
  {
   "cell_type": "code",
   "execution_count": null,
   "metadata": {
    "scrolled": false
   },
   "outputs": [],
   "source": [
    "tsplot_acf_pacf(AR1_series, AR2_series, AR3_series, AR4_series, AR5_series, lags = 50, layout = (5,2))"
   ]
  },
  {
   "cell_type": "markdown",
   "metadata": {},
   "source": [
    "* One can use the **Yule-Walker equation** to compute $\\phi_{hh}$ by solving system of linear equations \n",
    "\n",
    "$$P_k \\phi_k = \\rho_{(k)}$$ \n",
    "where \n",
    "\n",
    "$$\\begin{pmatrix}\n",
    "1 & \\rho(1) & ... & \\rho(k-1) \\\\\n",
    "\\rho(1) & 1 & ... & \\rho(k-2) \\\\\n",
    "\\vdots & \\vdots &  \\ddots & \\vdots \\\\\n",
    "\\rho(k-1) & \\rho(k-2) & ... & 1\n",
    "\\end{pmatrix}, \\quad \\phi_k = \n",
    "\\begin{pmatrix}\n",
    "\\phi_{k1} \\\\\n",
    "\\phi_{k2} \\\\\n",
    "\\vdots \\\\\n",
    "\\phi_{kk}\n",
    "\\end{pmatrix} \\quad\\text{and}\\quad \\rho_{(k)} =  \\begin{pmatrix}\n",
    "\\rho(1) \\\\\n",
    "\\rho(2) \\\\\n",
    "\\vdots \\\\\n",
    "\\rho(k)\n",
    "\\end{pmatrix}.$$\n",
    "\n",
    "* One can solve equations above using Cramer's rule: \n",
    "$$\\phi_{kk} = \\frac{det(P_k^*)}{det(P_k)}$$\n",
    "where $P_k^*$ is $P_k$ with $k$th column replaced with $\\rho_{(k)}.$\n",
    "\n",
    "* Note that Yule-Walker equation is only applicable for AR model.\n",
    "\n",
    "* Identification of an AR model is best done with the PACF, which is illustrated below."
   ]
  },
  {
   "cell_type": "code",
   "execution_count": null,
   "metadata": {},
   "outputs": [],
   "source": [
    "ma = [1]\n",
    "ar2 = [1, 0.1, -0.5]\n",
    "ar3 = [1, 0.5, -0.2, -0.7]\n",
    "ar4 = [1, 0.5, 0.2, -0.7, 0.3]\n",
    "\n",
    "AR_2 = generate_ARMA_data(ar2, ma)\n",
    "AR_3 = generate_ARMA_data(ar3, ma)\n",
    "AR_4 = generate_ARMA_data(ar4, ma)"
   ]
  },
  {
   "cell_type": "code",
   "execution_count": null,
   "metadata": {},
   "outputs": [],
   "source": [
    "tsplot_acf_pacf(x = AR_2, y = AR_3, z = AR_4, layout = (3,2))"
   ]
  },
  {
   "cell_type": "markdown",
   "metadata": {},
   "source": [
    "$\\textbf{Lag Operator}$ $L$ is defined as \n",
    "\n",
    "$$LX_t = X_{t-1}.$$\n",
    "\n",
    "* $AR(p)$ model satisfies \n",
    "\n",
    "$$\\phi(L) X_t = \\beta_0 + \\epsilon_t$$ \n",
    "\n",
    "where $\\phi(L) = 1- \\phi_1 L - \\phi_2 L^2 - \\phi_3 L^3 - ... - \\phi_p L^p$ and $\\beta_0 = (1 - \\phi_1 - \\phi_2 - \\phi_3 - ... - \\phi_p)\\mu.$"
   ]
  },
  {
   "cell_type": "markdown",
   "metadata": {},
   "source": [
    "=================================================================================================================="
   ]
  },
  {
   "cell_type": "markdown",
   "metadata": {},
   "source": [
    "## Moving Average MA$(q)$ Model"
   ]
  },
  {
   "cell_type": "markdown",
   "metadata": {},
   "source": [
    "* $MA(q)$ process follows \n",
    "\n",
    "$$X_t - \\mu = \\epsilon_t + \\theta_1 \\epsilon_1 + \\theta_2 \\epsilon_2 + ... + \\theta_q \\epsilon_q.$$\n",
    "\n",
    "* $\\rho(h) = 0$ for all $|h| > q$ and $\\rho(h) \\neq 0$ for all $|h| \\leq q.$\n",
    "\n",
    "* $MA(q)$ model is always weakly stationary and satisfies \n",
    "\n",
    "$$\\gamma(h) = \\sigma_\\epsilon^2( \\theta_1\\theta_{1-h} + \\theta_2 \\theta_{2-h} + ... + \\theta_q \\theta_{q-h} ). $$\n",
    "\n",
    "* If $\\theta(L) = 1 + \\theta_1 L + \\theta_2 L^2 + \\theta_3 L^3 + ... + \\theta_q L^q$, then \n",
    "\n",
    "$$\\begin{align*}\n",
    "X_t & = \\mu + \\theta(L) \\epsilon_t \\\\\n",
    "\\Rightarrow \\epsilon_t & = \\theta(L)^{-1}( X_t - \\mu )\n",
    "\\end{align*}$$\n",
    "\n",
    "* Identification of an MA model is best done with ACF rather than PACF.\n",
    "\n",
    "* When $p=1,$  \n",
    "\n",
    "|  $\\theta_1$      |         $X_t$         | \n",
    "|---------------|:--------------------:|\n",
    "| $\\theta_1<0$ | one-period Mean Reversion |\n",
    "| $\\theta_1>0$ | one-period Momentum |\n",
    "| $\\theta_1=0$ | white noise |"
   ]
  },
  {
   "cell_type": "code",
   "execution_count": null,
   "metadata": {},
   "outputs": [],
   "source": [
    "# MA(1) paramter = 0\n",
    "MA1_series = generate_ARMA_data( [1],[1,0] )\n",
    "\n",
    "# MA(1) paramter = -0.6\n",
    "MA2_series = generate_ARMA_data( [1],[1, -0.6])\n",
    "\n",
    "# MA(1) paramter = 0.4\n",
    "MA3_series = generate_ARMA_data( [1],[1, 0.4])\n",
    "\n",
    "# MA(1) paramter = 1\n",
    "MA4_series = generate_ARMA_data( [1],[1,1])\n",
    "\n",
    "# MA(1) paramter = 10\n",
    "MA5_series = generate_ARMA_data( [1],[1,10])"
   ]
  },
  {
   "cell_type": "code",
   "execution_count": null,
   "metadata": {},
   "outputs": [],
   "source": [
    "fig = plt.figure(figsize=(14,8))\n",
    "layout = (3,2)\n",
    "MA1_ax   = plt.subplot2grid(layout, (0, 0))\n",
    "MA2_ax = plt.subplot2grid(layout, (0, 1))\n",
    "MA3_ax  = plt.subplot2grid(layout, (1, 0))\n",
    "MA4_ax = plt.subplot2grid(layout, (1, 1))\n",
    "MA5_ax = plt.subplot2grid(layout, (2, 0))\n",
    "\n",
    "MA1_series.plot(ax = MA1_ax)\n",
    "MA1_ax.set_title('$theta = 0$')\n",
    "MA2_series.plot(ax = MA2_ax)\n",
    "MA2_ax.set_title('$theta = -0.6$')\n",
    "MA3_series.plot(ax = MA3_ax)\n",
    "MA3_ax.set_title('$theta = 0.4$')\n",
    "MA4_series.plot(ax = MA4_ax)\n",
    "MA4_ax.set_title('$theta = 1$')\n",
    "MA5_series.plot(ax = MA5_ax)\n",
    "MA5_ax.set_title('$theta = 10$')\n",
    "\n",
    "sns.despine()\n",
    "plt.tight_layout()"
   ]
  },
  {
   "cell_type": "code",
   "execution_count": null,
   "metadata": {},
   "outputs": [],
   "source": [
    "tsplot_acf_pacf(MA1_series, MA2_series, MA3_series, MA4_series, MA5_series, lags = 50, layout = (5,2))"
   ]
  },
  {
   "cell_type": "markdown",
   "metadata": {},
   "source": [
    "* Identification of an MA model is best done with the ACF."
   ]
  },
  {
   "cell_type": "code",
   "execution_count": null,
   "metadata": {},
   "outputs": [],
   "source": [
    "ar = [1]\n",
    "ma2 = [1, 0.1, -0.5]\n",
    "ma3 = [1, 0.5, -0.2, -0.7]\n",
    "ma4 = [1, 0.5, 0.7, -0.7, 0.3]\n",
    "\n",
    "MA_2 = generate_ARMA_data(ar, ma2)\n",
    "MA_3 = generate_ARMA_data(ar, ma3)\n",
    "MA_4 = generate_ARMA_data(ar, ma4)"
   ]
  },
  {
   "cell_type": "code",
   "execution_count": null,
   "metadata": {},
   "outputs": [],
   "source": [
    "tsplot_acf_pacf(x = MA_2, y = MA_3, z = MA_4, layout = (3,2))"
   ]
  },
  {
   "cell_type": "markdown",
   "metadata": {},
   "source": [
    "=================================================================================================================="
   ]
  },
  {
   "cell_type": "markdown",
   "metadata": {},
   "source": [
    "## AutoRegressive Moving Average ARMA(p,q) Model"
   ]
  },
  {
   "cell_type": "markdown",
   "metadata": {},
   "source": [
    "* $ARMA(p,q) = AR(p) + MA(q)$\n",
    "\n",
    "* $ARMA(p,q)$ model satisfies \n",
    "\n",
    "$$X_t - \\mu = \\phi_1(X_{t-1} - \\mu) + \\phi_2(X_{t-2} - \\mu) + ... + \\phi_p(X_{t-p} - \\mu) + \\epsilon_t + \\theta_1 \\epsilon_{t-1} + ... + \\theta_q \\epsilon_{t-q}$$\n",
    "\n",
    "* **Assumption**: Stationary time series (If violated, use ARIMA).\n",
    "\n",
    "* Using lag operator, $ARMA(p,q)$ satisfies\n",
    "$$\\phi(L) X_t = c + \\theta(L) \\epsilon_t \\quad \\text{fo some constant }c.$$"
   ]
  },
  {
   "cell_type": "code",
   "execution_count": null,
   "metadata": {},
   "outputs": [],
   "source": [
    "# AR(1) parameter = -0.9\n",
    "AR_series = generate_ARMA_data([1,-0.9], [1])\n",
    "\n",
    "# MA(1) parameter = +0.9\n",
    "MA_series = generate_ARMA_data([1], [1,0.9])\n",
    "\n",
    "# Plot 3: ARMA(1,1) parameter = 0.9, 0.9\n",
    "ARMA_series = generate_ARMA_data( [1,-0.9], [1,0.9] )\n",
    "\n",
    "tsplot_acf_pacf(x = AR_series, y = MA_series, z = ARMA_series, layout = (3,3))"
   ]
  },
  {
   "cell_type": "markdown",
   "metadata": {},
   "source": [
    "* To specify $p$ and $q$ for AR and MA models respectively, one can use the following table as a guide.\n",
    "\n",
    "|  Process      |          ACF         |          PACF        |\n",
    "|---------------|:--------------------:|:--------------------:|\n",
    "| **AR(p)**     |    tails off         | cutoff after lag $p$ |\n",
    "| **MA(q)**     | cutoff after lag $q$ |    tails off         |\n",
    "| **ARMA(p,q)** |    tails off         |    tails off         |"
   ]
  },
  {
   "cell_type": "markdown",
   "metadata": {},
   "source": [
    "* Keep in mind that these are theoretical properties. In practice, the estimated sample ACF and PACF can come with large variances, deviating from the underlying theoretical behavior. As such, it is prudent to recognize that these are  but broad characteristics, and it is quite possible that several candidate models are narrowed down and will need to be investigaged further in the later stage of the modeling process."
   ]
  },
  {
   "cell_type": "markdown",
   "metadata": {},
   "source": [
    "======================================================================================================================"
   ]
  },
  {
   "cell_type": "markdown",
   "metadata": {},
   "source": [
    "# Information Criteria for Selecting ARMA$(p,q)$"
   ]
  },
  {
   "cell_type": "markdown",
   "metadata": {},
   "source": [
    "* The acf and pacf are not informative in determining $p$ and $q$ of an ARMA$(p,q)$ model.\n",
    "\n",
    "* Instead, we can apply Akaike's Information Criterion(AIC), Bayesian Information Criterion (BIC) and Hannan–Quinn information criterion (HQIC) to determine order of an ARMA model:\n",
    "\n",
    "$$\n",
    "\\begin{align*}\n",
    "AIC & = -2 \\log( \\text{ maximum likelihood }) + 2k, \\\\\n",
    "BIC & = -2 \\log(\\text{ maximum likelihood }) + k \\log(n) \\quad\\text{and}\\\\\n",
    "HQIC & = -2 \\log(\\text{ maximum likelihood }) + 2k \\ln(\\ln(n))\n",
    "\\end{align*}\n",
    "$$\n",
    "\n",
    "where $k$ is the number of parameters to be estimated and $n$ is the number of observations.\n",
    "\n",
    "For example, we have $k = p + q + 1$ if the model contains an intercept and $k = p + q$ otherwise on ARMA$(p,q).$\n",
    "\n",
    "* Smaller AIC, BIC or HQIC is better.\n",
    "\n",
    "* If the true process follows an ARMA$(p,q)$ model, then it is known that the orders specified by minimizing BIC leads to the true orders as the sample size increases.\n",
    "\n",
    "* However, if the true process is not a finite-order ARMA process, then minimizing AIC among an increasingly large class of ARIMA models enjoys the appealing property that it will lead to an optimal ARMA model that is closes to the true process among the class of models under study.\n",
    "\n",
    "* HQIC, like BIC, but unlike AIC, is not asymptotically efficient.\n",
    "\n",
    "* It is important to keep in mind that the HQIC can be used to compare estimated models only when the numerical values of the dependent variable are identical for all estimates being compared."
   ]
  },
  {
   "cell_type": "code",
   "execution_count": null,
   "metadata": {},
   "outputs": [],
   "source": [
    "# ARMA_results is a dictionary\n",
    "ARMA_results = sm.tsa.arma_order_select_ic(ARMA_series, ic=['aic', 'bic', 'hqic'], trend='nc', max_ar=4, max_ma=4)\n",
    "\n",
    "print('AIC', ARMA_results.aic_min_order)\n",
    "print('BIC', ARMA_results.bic_min_order)\n",
    "print('HQIC', ARMA_results.hqic_min_order)\n",
    "print('Correct answer is (1,1)')"
   ]
  },
  {
   "cell_type": "markdown",
   "metadata": {},
   "source": [
    "======================================================================================================================"
   ]
  },
  {
   "cell_type": "markdown",
   "metadata": {},
   "source": [
    "# Model Fitting"
   ]
  },
  {
   "cell_type": "markdown",
   "metadata": {},
   "source": [
    "* In sections above, we studied ACF and PACF of AR, MA and ARMA models. \n",
    "In this section, we will fit them to a data set for forecasting."
   ]
  },
  {
   "cell_type": "code",
   "execution_count": null,
   "metadata": {
    "scrolled": true
   },
   "outputs": [],
   "source": [
    "temp_df = pd.read_csv('daily-minimum-temperatures.csv', header=0)\n",
    "print(temp_df.head())"
   ]
  },
  {
   "cell_type": "code",
   "execution_count": null,
   "metadata": {},
   "outputs": [],
   "source": [
    "temp_df.info()"
   ]
  },
  {
   "cell_type": "code",
   "execution_count": null,
   "metadata": {
    "scrolled": false
   },
   "outputs": [],
   "source": [
    "tsplot_acf_pacf(temp_df['Temp'], lags = 50)"
   ]
  },
  {
   "cell_type": "code",
   "execution_count": null,
   "metadata": {},
   "outputs": [],
   "source": [
    "# split dataset\n",
    "X = temp_df['Temp']\n",
    "train, test1 = X[1:len(X)-7], X[len(X)-7:]\n",
    "test = test1.rename(lambda x: x - 3643)\n",
    "\n",
    "# train autoregression\n",
    "model = ARIMA(train, order = (3,0,1))   \n",
    "model_fit = model.fit()\n",
    "print(model_fit.summary())\n",
    "\n",
    "# make predictions\n",
    "predictions1 = model_fit.predict(start=len(train), end=len(train)+len(test)-1, dynamic=False)\n",
    "predictions = predictions1.rename(lambda x: x- 3643)\n",
    "\n",
    "for i in range(len(predictions)):\n",
    "    print('predicted=%f, expected=%f' % (predictions.values[i], test.values[i]) )\n",
    "error = mean_squared_error(test, predictions)\n",
    "print('Test MSE: %.3f' % error)\n",
    "\n",
    "# plot results\n",
    "plt.plot(test, color = 'blue', label = 'expected values')\n",
    "plt.plot(predictions, color='red', label = 'estimated values')\n",
    "plt.legend(loc = 'upper left')\n",
    "plt.show()"
   ]
  },
  {
   "cell_type": "markdown",
   "metadata": {},
   "source": [
    "* css-mle = Conditional Sum of Squares - Maximum Likelihood Estimator"
   ]
  },
  {
   "cell_type": "code",
   "execution_count": null,
   "metadata": {},
   "outputs": [],
   "source": [
    "# A model selection method, limited to only searching AR and MA parameters\n",
    "\n",
    "train_results = sm.tsa.arma_order_select_ic(X, ic=['aic', 'bic', 'hqic'], trend='nc', max_ar=4, max_ma=4)\n",
    "\n",
    "print('AIC', train_results.aic_min_order)\n",
    "print('BIC', train_results.bic_min_order)\n",
    "print('HQIC', train_results.hqic_min_order)"
   ]
  }
 ],
 "metadata": {
  "kernelspec": {
   "display_name": "Python 3",
   "language": "python",
   "name": "python3"
  },
  "language_info": {
   "codemirror_mode": {
    "name": "ipython",
    "version": 3
   },
   "file_extension": ".py",
   "mimetype": "text/x-python",
   "name": "python",
   "nbconvert_exporter": "python",
   "pygments_lexer": "ipython3",
   "version": "3.7.3"
  },
  "toc": {
   "base_numbering": 1,
   "nav_menu": {},
   "number_sections": true,
   "sideBar": true,
   "skip_h1_title": false,
   "title_cell": "Table of Contents",
   "title_sidebar": "Contents",
   "toc_cell": false,
   "toc_position": {},
   "toc_section_display": true,
   "toc_window_display": false
  }
 },
 "nbformat": 4,
 "nbformat_minor": 2
}
