{
 "cells": [
  {
   "cell_type": "markdown",
   "metadata": {},
   "source": [
    "# Simulations for Time Series Models"
   ]
  },
  {
   "cell_type": "code",
   "execution_count": null,
   "metadata": {},
   "outputs": [],
   "source": [
    "from statsmodels.tsa.arima_process import ArmaProcess\n",
    "import numpy as np\n",
    "import pandas as pd\n",
    "#import pandas_profiling\n",
    "import matplotlib.pyplot as plt\n",
    "from statsmodels.graphics.tsaplots import plot_acf\n",
    "from statsmodels.graphics.tsaplots import plot_acf\n",
    "from statsmodels.graphics.tsaplots import plot_pacf\n",
    "import seaborn as sns\n",
    "import statsmodels.api as sm\n",
    "import statsmodels.formula.api as smf\n",
    "import statsmodels.tsa.api as smt"
   ]
  },
  {
   "cell_type": "code",
   "execution_count": null,
   "metadata": {},
   "outputs": [],
   "source": [
    "def tsplot(y, \n",
    "           lags=None, \n",
    "           title='', \n",
    "           figsize=(14, 8)):\n",
    "    '''Examine the patterns of ACF and PACF, along with the time series plot and histogram.\n",
    "    \n",
    "    Original source: https://tomaugspurger.github.io/modern-7-timeseries.html\n",
    "    '''\n",
    "    fig = plt.figure(figsize=figsize)\n",
    "    layout = (2, 2)\n",
    "    ts_ax   = plt.subplot2grid(layout, (0, 0))\n",
    "    hist_ax = plt.subplot2grid(layout, (0, 1))\n",
    "    acf_ax  = plt.subplot2grid(layout, (1, 0))\n",
    "    pacf_ax = plt.subplot2grid(layout, (1, 1))\n",
    "    \n",
    "    y.plot(ax=ts_ax)\n",
    "    ts_ax.set_title(title)\n",
    "    y.plot(ax=hist_ax, kind='hist', bins=25)\n",
    "    hist_ax.set_title('Histogram')\n",
    "    smt.graphics.plot_acf(y, lags=lags, ax=acf_ax)\n",
    "    smt.graphics.plot_pacf(y, lags=lags, ax=pacf_ax)\n",
    "    [ax.set_xlim(0) for ax in [acf_ax, pacf_ax]]\n",
    "    sns.despine()\n",
    "    plt.tight_layout()\n",
    "    return ts_ax, acf_ax, pacf_ax"
   ]
  },
  {
   "cell_type": "code",
   "execution_count": null,
   "metadata": {},
   "outputs": [],
   "source": [
    "def tsplot_1(w,\n",
    "             x,\n",
    "             y,\n",
    "             z, \n",
    "             title = ['Open', 'High', 'Low', 'Close'],\n",
    "             lags=None, \n",
    "             figsize=(14, 8)):\n",
    "    '''Examine the patterns of time series.\n",
    "    \n",
    "    Original source: https://tomaugspurger.github.io/modern-7-timeseries.html\n",
    "    '''\n",
    "    fig = plt.figure(figsize=figsize)\n",
    "    layout = (2, 2)\n",
    "    w_ax   = plt.subplot2grid(layout, (0, 0))\n",
    "    x_ax = plt.subplot2grid(layout, (0, 1))\n",
    "    y_ax  = plt.subplot2grid(layout, (1, 0))\n",
    "    z_ax = plt.subplot2grid(layout, (1, 1))\n",
    "    \n",
    "    w.plot(ax=w_ax)\n",
    "    w_ax.set_title(title[0])\n",
    "    x.plot(ax=x_ax)\n",
    "    x_ax.set_title(title[1])\n",
    "    y.plot(ax=y_ax)\n",
    "    y_ax.set_title(title[2])\n",
    "    z.plot(ax=z_ax)\n",
    "    z_ax.set_title(title[3])\n",
    "    sns.despine()\n",
    "    plt.tight_layout()\n",
    "    return w_ax, x_ax, y_ax, z_ax"
   ]
  },
  {
   "cell_type": "markdown",
   "metadata": {},
   "source": [
    "# Introduction to Time Series and Their Components"
   ]
  },
  {
   "cell_type": "markdown",
   "metadata": {},
   "source": [
    "A time series is a set of sequential data points, which is usually illustrated using graph. They are usually indexed by time. \n",
    "\n",
    "The following is the time series of historical open, high, low and close prices (OHLC) of Bitcoin, which is indexed by date. "
   ]
  },
  {
   "cell_type": "code",
   "execution_count": null,
   "metadata": {},
   "outputs": [],
   "source": [
    "BitCoin = pd.read_csv('BTC-USD.csv', index_col = 0)\n",
    "BitCoin.head()"
   ]
  },
  {
   "cell_type": "code",
   "execution_count": null,
   "metadata": {
    "scrolled": false
   },
   "outputs": [],
   "source": [
    "tsplot_1(BitCoin['Open'], \n",
    "         BitCoin['High'], \n",
    "         BitCoin['Low'], \n",
    "         BitCoin['Close'])"
   ]
  },
  {
   "cell_type": "code",
   "execution_count": null,
   "metadata": {},
   "outputs": [],
   "source": [
    "# a glimpse of the data set\n",
    "BitCoin.info()"
   ]
  },
  {
   "cell_type": "code",
   "execution_count": null,
   "metadata": {
    "scrolled": true
   },
   "outputs": [],
   "source": [
    "# summary of descriptive statistics of BitCoin\n",
    "BitCoin.describe()"
   ]
  },
  {
   "cell_type": "code",
   "execution_count": null,
   "metadata": {},
   "outputs": [],
   "source": [
    "# return dates corresponding to maximum OHLC price\n",
    "BitCoin.idxmax()"
   ]
  },
  {
   "cell_type": "code",
   "execution_count": null,
   "metadata": {},
   "outputs": [],
   "source": [
    "# return dates corresponding to minimum OHLC price\n",
    "BitCoin.idxmin()"
   ]
  },
  {
   "cell_type": "code",
   "execution_count": null,
   "metadata": {
    "scrolled": true
   },
   "outputs": [],
   "source": [
    "# More comprehensive function for dataframe's describe is the pandas_profiling,\n",
    "# whose source can be found at https://github.com/pandas-profiling/pandas-profiling\n",
    "# But please be aware that it takes a long time for it to run on large data set.\n",
    "\n",
    "#import pandas_profiling\n",
    "#BitCoin[:100].profile_report()"
   ]
  },
  {
   "cell_type": "markdown",
   "metadata": {},
   "source": [
    "Time series analysis is used to analyse time series data such as observing its trend, whether the time series is exhibiting uptrend, downtrend or seasonal so that one can predict future information. \n",
    "Another purpose of time series analysis is to extract meaningful statistics and other characteristics of the data."
   ]
  },
  {
   "cell_type": "markdown",
   "metadata": {},
   "source": [
    "All time series can be classified into the following.\n",
    "\n",
    "1. Trend - tendency to increase, decrease or stagnate\n",
    "2. Seasonal - periodic fluctuation with fixed period\n",
    "3. Cyclical - fluctuations with irregular perios\n",
    "4. Irregular - unpredictable movements and no repetition"
   ]
  },
  {
   "cell_type": "code",
   "execution_count": null,
   "metadata": {},
   "outputs": [],
   "source": [
    "Apple = pd.read_csv('AAPL.csv', index_col = 0)\n",
    "Apple.head()"
   ]
  },
  {
   "cell_type": "code",
   "execution_count": null,
   "metadata": {
    "scrolled": false
   },
   "outputs": [],
   "source": [
    "tsplot_1(Apple['Open'], \n",
    "         Apple['High'], \n",
    "         Apple['Low'], \n",
    "         Apple['Close'], \n",
    "         lags = 50)"
   ]
  },
  {
   "cell_type": "code",
   "execution_count": null,
   "metadata": {},
   "outputs": [],
   "source": [
    "# summary of descriptive statistics of Apple stock price\n",
    "Apple.describe()"
   ]
  },
  {
   "cell_type": "code",
   "execution_count": null,
   "metadata": {},
   "outputs": [],
   "source": [
    "# return index that has maximum Open price\n",
    "Apple.idxmax()"
   ]
  },
  {
   "cell_type": "code",
   "execution_count": null,
   "metadata": {},
   "outputs": [],
   "source": [
    "# row which has maximum open price\n",
    "Apple.loc['2018-10-04']"
   ]
  },
  {
   "cell_type": "code",
   "execution_count": null,
   "metadata": {
    "scrolled": false
   },
   "outputs": [],
   "source": [
    "# Plot AR(1) with parameter = +0.9\n",
    "ar = np.array([1, -0.9])   # Note that \\phi(L)(y_t - X_t b) = theta(L) e_t. So negative 0.9\n",
    "ma = np.array([1])\n",
    "AR_object = ArmaProcess(ar, ma)\n",
    "simulated_data_1 = AR_object.generate_sample(nsample=1000)\n",
    "simulated_data = pd.Series(simulated_data_1)\n",
    "tsplot(simulated_data)"
   ]
  },
  {
   "cell_type": "code",
   "execution_count": null,
   "metadata": {},
   "outputs": [],
   "source": [
    "# Plot MA(1) parameter = +0.9\n",
    "ar = np.array([1])   \n",
    "ma = np.array([1, 0.9])    # Note that \\phi(L)(y_t - X_t b) = theta(L) e_t. So negative 0.9\n",
    "MA_object = ArmaProcess(ar, ma)\n",
    "simulated_data_1 = MA_object.generate_sample(nsample=1000)\n",
    "simulated_data = pd.Series(simulated_data_1)\n",
    "tsplot(simulated_data)"
   ]
  }
 ],
 "metadata": {
  "kernelspec": {
   "display_name": "Python 3",
   "language": "python",
   "name": "python3"
  },
  "language_info": {
   "codemirror_mode": {
    "name": "ipython",
    "version": 3
   },
   "file_extension": ".py",
   "mimetype": "text/x-python",
   "name": "python",
   "nbconvert_exporter": "python",
   "pygments_lexer": "ipython3",
   "version": "3.7.3"
  },
  "toc": {
   "base_numbering": 1,
   "nav_menu": {},
   "number_sections": true,
   "sideBar": true,
   "skip_h1_title": false,
   "title_cell": "Table of Contents",
   "title_sidebar": "Contents",
   "toc_cell": false,
   "toc_position": {},
   "toc_section_display": true,
   "toc_window_display": false
  }
 },
 "nbformat": 4,
 "nbformat_minor": 2
}
