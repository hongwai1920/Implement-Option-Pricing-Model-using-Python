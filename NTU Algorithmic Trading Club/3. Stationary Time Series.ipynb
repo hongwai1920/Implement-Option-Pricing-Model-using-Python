{
 "cells": [
  {
   "cell_type": "markdown",
   "metadata": {},
   "source": [
    "# Stationary Time Series"
   ]
  },
  {
   "cell_type": "code",
   "execution_count": null,
   "metadata": {},
   "outputs": [],
   "source": [
    "import pandas as pd\n",
    "from numpy import log\n",
    "import matplotlib.pyplot as plt\n",
    "\n",
    "from statsmodels.graphics.tsaplots import plot_acf\n",
    "from statsmodels.graphics.tsaplots import plot_pacf\n",
    "from statsmodels.tsa.arima_model import ARIMA\n",
    "\n",
    "import statsmodels.tsa.stattools as st\n",
    "\n",
    "import statsmodels.api as sm\n",
    "import statsmodels.formula.api as smf\n",
    "import statsmodels.tsa.api as smt\n",
    "\n",
    "import seaborn as sns\n",
    "\n",
    "import random\n",
    "from random import gauss\n",
    "from random import seed"
   ]
  },
  {
   "cell_type": "code",
   "execution_count": null,
   "metadata": {},
   "outputs": [],
   "source": [
    "def tsplot(y, lags=None, title='', figsize=(14, 8)):\n",
    "    '''Examine the patterns of ACF and PACF, along with the time series plot and histogram.\n",
    "    \n",
    "    Original source: https://tomaugspurger.github.io/modern-7-timeseries.html\n",
    "    '''\n",
    "    fig = plt.figure(figsize=figsize)\n",
    "    layout = (2, 2)\n",
    "    ts_ax   = plt.subplot2grid(layout, (0, 0))\n",
    "    hist_ax = plt.subplot2grid(layout, (0, 1))\n",
    "    acf_ax  = plt.subplot2grid(layout, (1, 0))\n",
    "    pacf_ax = plt.subplot2grid(layout, (1, 1))\n",
    "    \n",
    "    y.plot(ax=ts_ax)\n",
    "    ts_ax.set_title(title)\n",
    "    y.plot(ax=hist_ax, kind='hist', bins=25)\n",
    "    hist_ax.set_title('Histogram')\n",
    "    smt.graphics.plot_acf(y, lags=lags, ax=acf_ax)\n",
    "    smt.graphics.plot_pacf(y, lags=lags, ax=pacf_ax)\n",
    "    [ax.set_xlim(0) for ax in [acf_ax, pacf_ax]]\n",
    "    sns.despine()\n",
    "    plt.tight_layout()\n",
    "    return ts_ax, acf_ax, pacf_ax"
   ]
  },
  {
   "cell_type": "code",
   "execution_count": null,
   "metadata": {},
   "outputs": [],
   "source": [
    "def compare_mean_variance(X):\n",
    "    split = int(len(X) / 2)\n",
    "    X1, X2 = X[0:split], X[split:]\n",
    "    mean1, mean2 = X1.mean(), X2.mean()\n",
    "    var1, var2 = X1.var(), X2.var()\n",
    "    print('mean1=%f, mean2=%f' % (mean1, mean2))\n",
    "    print('variance1=%f, variance2=%f' % (var1, var2))"
   ]
  },
  {
   "cell_type": "code",
   "execution_count": null,
   "metadata": {},
   "outputs": [],
   "source": [
    "def adf(series):\n",
    "    adf_result = st.adfuller(series, store = True)\n",
    "    print(\"ADF Test Results: \")\n",
    "    print(\"Test Statistic: %.4f\" % adf_result[0])\n",
    "    print(\"p-value: %.10f\" % adf_result[1])\n",
    "    print(\"Critical Values: \")\n",
    "    for key, value in adf_result[2].items():\n",
    "        print('\\t%s: %0.3f' % (key, value))"
   ]
  },
  {
   "cell_type": "code",
   "execution_count": null,
   "metadata": {},
   "outputs": [],
   "source": [
    "def kpss(series):\n",
    "    kpss_result = st.kpss(series, store=True)\n",
    "    print(\"KPSS Test Results: \")\n",
    "    print(\"Test Statistic: %.4f\" % kpss_result[0])\n",
    "    print(\"p-value: %.10f\" % kpss_result[1])\n",
    "    print(\"Critical Values: \")\n",
    "    for key, value in kpss_result[2].items():\n",
    "        print('\\t%s: %0.3f' % (key, value))"
   ]
  },
  {
   "cell_type": "markdown",
   "metadata": {},
   "source": [
    "============================================================================================================="
   ]
  },
  {
   "cell_type": "markdown",
   "metadata": {},
   "source": [
    "# Notion of Stationarity"
   ]
  },
  {
   "cell_type": "markdown",
   "metadata": {},
   "source": [
    "* It is very difficult to forecast non-deterministic time series as they involve randomness.\n",
    "This motivates the notion of stationarity. \n",
    "\n",
    "* A time series $\\{X_t\\}_t$ is said to be $\\textit{strictly stationary}$ if the \n",
    "\n",
    "$$ \\text{joint distributions} \\quad F(X_{t_1}, \\dots, X_{t_n}) \\quad \\text{and} \\quad F( X_{t_1+m}, \\dots, X_{t_n +m}) \\quad\\text{are the same for all} \\quad t_1, ... t_n \\text{ and } m. $$\n",
    "\n",
    "* This is a very strong condition, too strong to be applied in practice; it implies that the distribution is unchanged for any time shift!\n",
    "\n",
    "* A weaker and more practical stationarity condition is that of $\\textit{weakly stationary}$ (or $\\textit{second order stationarity}$). A time series $\\{X_t\\}_t$ is said to be $\\textit{weakly stationary}$ if it is mean and variance stationary and its autocovariance $Cov(X_t, X_{t+k})$ depends only the time displacement $k.$ Mathematically speaking, \n",
    "\n",
    "\\begin{align*}\n",
    "E(X_t) & = \\mu \\quad \\text{for all }t \\quad \\text{and} \\\\\n",
    "Cov(X_t, X_{t+k}) & = \\gamma(k) \\quad \\text{for all }t,h .\n",
    "\\end{align*}\n",
    "\n",
    "* Second order stationarity plays an important role in many of the time series models; if a time series is second order stationary, then once a distribution assumption such as normality is imposed, the time series can be completely characterized by its mean and covariance structure."
   ]
  },
  {
   "cell_type": "code",
   "execution_count": null,
   "metadata": {
    "scrolled": false
   },
   "outputs": [],
   "source": [
    "births_csv = pd.read_csv('daily-total-female-births.csv', \n",
    "                         index_col = 0)  \n",
    "births_csv.head()"
   ]
  },
  {
   "cell_type": "code",
   "execution_count": null,
   "metadata": {
    "scrolled": true
   },
   "outputs": [],
   "source": [
    "#import pandas_profiling\n",
    "#births_csv.profile_report()\n",
    "\n",
    "# pandas_profiling is a more comprehensive exploratory data analysis function\n",
    "# it is useful to handle data set with many features\n",
    "# however, please be aware that it takes much longer time to perform all computations"
   ]
  },
  {
   "cell_type": "code",
   "execution_count": null,
   "metadata": {},
   "outputs": [],
   "source": [
    "births_csv.info()"
   ]
  },
  {
   "cell_type": "code",
   "execution_count": null,
   "metadata": {},
   "outputs": [],
   "source": [
    "births_csv.describe()"
   ]
  },
  {
   "cell_type": "code",
   "execution_count": null,
   "metadata": {
    "scrolled": false
   },
   "outputs": [],
   "source": [
    "tsplot(births_csv, title = 'birth')"
   ]
  },
  {
   "cell_type": "markdown",
   "metadata": {},
   "source": [
    "* Is the time series above stationary?"
   ]
  },
  {
   "cell_type": "markdown",
   "metadata": {},
   "source": [
    "## Non-Stationary Time Series"
   ]
  },
  {
   "cell_type": "markdown",
   "metadata": {},
   "source": [
    "* Observations from a non-stationary time series show seasonal effects, trends, and other structures that depend on the time index.\n",
    "\n",
    "* Summary statistics like the mean and variance do change over time, providing a drift in the concepts a model may try to capture.\n",
    "\n",
    "* Classical time series analysis and forecasting methods are concerned with making non-stationary time series data stationary by identifying and removing trends and removing seasonal effects."
   ]
  },
  {
   "cell_type": "code",
   "execution_count": null,
   "metadata": {
    "scrolled": true
   },
   "outputs": [],
   "source": [
    "airline_csv = pd.read_csv('international-airline-passengers.csv',  \n",
    "                          index_col = 0)\n",
    "\n",
    "airline_csv.head()"
   ]
  },
  {
   "cell_type": "code",
   "execution_count": null,
   "metadata": {},
   "outputs": [],
   "source": [
    "airline_csv.info()"
   ]
  },
  {
   "cell_type": "code",
   "execution_count": null,
   "metadata": {},
   "outputs": [],
   "source": [
    "airline_csv.describe()"
   ]
  },
  {
   "cell_type": "code",
   "execution_count": null,
   "metadata": {},
   "outputs": [],
   "source": [
    "tsplot(airline_csv, title='airline')"
   ]
  },
  {
   "cell_type": "markdown",
   "metadata": {},
   "source": [
    "## Checks for Stationarity"
   ]
  },
  {
   "cell_type": "markdown",
   "metadata": {},
   "source": [
    "1. **Look at Plots**: You can review a time series plot of your data and visually check if there are any obvious trends or seasonality.\n",
    "\n",
    "2. **Summary Statistics**: You can review the summary statistics for your data for seasons or random partitions and check for obvious or significant differences.\n",
    "\n",
    "3. **Statistical Tests**: You can use statistical tests to check if the expectations of stationarity are met or have been violated.\n",
    "\n",
    "\n",
    "* Above, we have already introduced the Daily Female Births and Airline Passengers datasets as stationary and non-stationary respectively with plots showing an obvious lack and presence of trend and seasonality components.\n",
    "\n",
    "* We will look at a quick and dirty way to calculate and review summary statistics on our time series dataset for checking to see if it is stationary."
   ]
  },
  {
   "cell_type": "markdown",
   "metadata": {},
   "source": [
    "### Summary Statistics"
   ]
  },
  {
   "cell_type": "markdown",
   "metadata": {},
   "source": [
    "* A quick and dirty check to see if your time series is non-stationary is to review summary statistics.\n",
    "\n",
    "* Split your time series into two (or more) partitions and compare the mean and variance of each group. If they differ and the difference is statistically significant, the time series is likely non-stationary."
   ]
  },
  {
   "cell_type": "markdown",
   "metadata": {},
   "source": [
    "### Examples"
   ]
  },
  {
   "cell_type": "markdown",
   "metadata": {},
   "source": [
    "#### Daily Births Dataset"
   ]
  },
  {
   "cell_type": "markdown",
   "metadata": {},
   "source": [
    "Because we are looking at the mean and variance, we are assuming that the data conforms to a Gaussian (also called the bell curve or normal) distribution.\n",
    "\n",
    "We can also quickly check this by eyeballing a histogram of our observations."
   ]
  },
  {
   "cell_type": "code",
   "execution_count": null,
   "metadata": {},
   "outputs": [],
   "source": [
    "births_csv.hist()\n",
    "plt.show()"
   ]
  },
  {
   "cell_type": "markdown",
   "metadata": {},
   "source": [
    "* Clearly the bell curve-like shape of the Gaussian distribution, perhaps with a longer right tail.\n",
    "\n",
    "* Next, we split the time series into two contiguous sequences to calculate the mean and variance of each group of numbers and compare the values."
   ]
  },
  {
   "cell_type": "code",
   "execution_count": null,
   "metadata": {},
   "outputs": [],
   "source": [
    "compare_mean_variance(births_csv.values)"
   ]
  },
  {
   "cell_type": "markdown",
   "metadata": {},
   "source": [
    "* Mean and variance values are different, but in the same ball-park."
   ]
  },
  {
   "cell_type": "markdown",
   "metadata": {},
   "source": [
    "#### Airline Passengers Dataset"
   ]
  },
  {
   "cell_type": "code",
   "execution_count": null,
   "metadata": {},
   "outputs": [],
   "source": [
    "compare_mean_variance(airline_csv.values)"
   ]
  },
  {
   "cell_type": "markdown",
   "metadata": {},
   "source": [
    "* Mean and variance look very different, thus non-stationary."
   ]
  },
  {
   "cell_type": "markdown",
   "metadata": {},
   "source": [
    "**Well, maybe.**\n",
    "\n",
    "* Let’s take one step back and check if assuming a Gaussian distribution makes sense in this case by plotting the values of the time series as a histogram."
   ]
  },
  {
   "cell_type": "code",
   "execution_count": null,
   "metadata": {},
   "outputs": [],
   "source": [
    "airline_csv.hist()\n",
    "plt.show()"
   ]
  },
  {
   "cell_type": "markdown",
   "metadata": {},
   "source": [
    "* The distribution of values does not look like a Gaussian, therefore the mean and variance values are less meaningful.\n",
    "\n",
    "* The squashed distribution of the observations may be another indicator of a non-stationary time series.\n",
    "\n",
    "* There is an obvious seasonality component, and it looks like the seasonality component is growing.\n",
    "\n",
    "* This suggests an exponential growth from season to season. A log transform can be used to flatten out exponential change back to a linear relationship.\n",
    "\n",
    "* Below is the same histogram with a log transform of the time series."
   ]
  },
  {
   "cell_type": "code",
   "execution_count": null,
   "metadata": {},
   "outputs": [],
   "source": [
    "X = log(airline_csv.values)\n",
    "\n",
    "plt.hist(X)\n",
    "plt.show()\n",
    "plt.plot(X)\n",
    "plt.show()"
   ]
  },
  {
   "cell_type": "markdown",
   "metadata": {},
   "source": [
    "* More familiar Gaussian-like or Uniform-like distribution of values.\n",
    "\n",
    "* We also create a line plot of the log transformed data and can see the exponential growth seems diminished, but we still have a trend and seasonal elements.\n",
    "\n",
    "* We can now calculate the mean and standard deviation of the values of the log transformed dataset."
   ]
  },
  {
   "cell_type": "code",
   "execution_count": null,
   "metadata": {
    "scrolled": true
   },
   "outputs": [],
   "source": [
    "compare_mean_variance(log(airline_csv.values))"
   ]
  },
  {
   "cell_type": "markdown",
   "metadata": {},
   "source": [
    "* Mean and standard deviation values for each group that are again similar, but not identical.\n",
    "\n",
    "* Perhaps, from these numbers alone, we would say the time series is stationary, but we strongly believe this to not be the case from reviewing the line plot.\n",
    "\n",
    "* This is a quick and dirty method that may be easily fooled.\n",
    "\n",
    "* We can use a statistical test to check if the difference between two samples of Gaussian random variables is real or a statistical fluke. We could explore statistical significance tests, like the Student t-test, but things get tricky because of the serial correlation between values.\n",
    "\n",
    "* In the next section, we will use a statistical test designed to explicitly comment on whether a univariate time series is stationary."
   ]
  },
  {
   "cell_type": "markdown",
   "metadata": {},
   "source": [
    "## Stationarity Tests"
   ]
  },
  {
   "cell_type": "markdown",
   "metadata": {},
   "source": [
    "### Augmented Dickey-Fuller test (ADF)"
   ]
  },
  {
   "cell_type": "markdown",
   "metadata": {},
   "source": [
    "* The Augmented Dickey-Fuller test is a type of statistical test called a unit root test.\n",
    "\n",
    "* The intuition behind a unit root test is that it determines how strongly a time series is defined by a trend.\n",
    "\n",
    "* There are a number of unit root tests and the Augmented Dickey-Fuller may be one of the more widely used. It uses an autoregressive model and optimizes an information criterion across multiple different lag values.\n",
    "\n",
    "* $H_0:$ There is a unit root (not stationary)     \n",
    "$H_1:$ There is no unit root (stationary)\n",
    "\n",
    "* The null hypothesis of the test is that the time series can be represented by a unit root, that it is not stationary (has some time-dependent structure). The alternate hypothesis (rejecting the null hypothesis) is that the time series is stationary.\n",
    "\n",
    "| p-value |  Null Hypothesis      |       Conclusion   |\n",
    "|---|-----------------------|:--------------------:|\n",
    "| $\\leq 0.05$  | reject                |    stationary    |\n",
    "| $>0.05$   | fail to reject        |      non-stationary    |\n",
    "\n",
    "\n",
    "\n",
    "\n",
    "* We interpret this result using the p-value from the test. A p-value below a threshold (such as 5% or 1%) suggests we reject the null hypothesis (stationary), otherwise a p-value above the threshold suggests we fail to reject the null hypothesis (non-stationary)."
   ]
  },
  {
   "cell_type": "markdown",
   "metadata": {},
   "source": [
    "* Recall that the **p-value** is the probability that, when the null hypothesis is true, the statistical summary would be greater than or equal to the actual observed results.\n",
    "\n",
    "* Below is an example of calculating the Augmented Dickey-Fuller test on the Daily Female Births dataset. The statsmodels library provides the adfuller() function that implements the test."
   ]
  },
  {
   "cell_type": "code",
   "execution_count": null,
   "metadata": {},
   "outputs": [],
   "source": [
    "adf(births_csv['Births'])"
   ]
  },
  {
   "cell_type": "markdown",
   "metadata": {},
   "source": [
    "* The more negative the test statistic, the more likely we are to reject the null hypothesis (we have a stationary dataset).\n",
    "\n",
    "* As part of the output, we get a look-up table to help determine the ADF statistic. We can see that our statistic value of -4 is less than the value of -3.449 at 1%.\n",
    "\n",
    "* This suggests that we can reject the null hypothesis with a significance level of less than 1% (i.e. a low probability that the result is a statistical fluke).\n",
    "\n",
    "* Rejecting the null hypothesis means that the process has no unit root, and in turn that the time series is stationary or does not have time-dependent structure."
   ]
  },
  {
   "cell_type": "markdown",
   "metadata": {},
   "source": [
    "* We can perform the same test on the Airline Passenger dataset."
   ]
  },
  {
   "cell_type": "code",
   "execution_count": null,
   "metadata": {},
   "outputs": [],
   "source": [
    "adf(airline_csv['Passengers'])"
   ]
  },
  {
   "cell_type": "markdown",
   "metadata": {},
   "source": [
    "* The test statistic is positive, meaning we are much less likely to reject the null hypothesis (it looks non-stationary).\n",
    "\n",
    "* Comparing the test statistic to the critical values, it looks like we would have to fail to reject the null hypothesis that the time series is non-stationary and does have time-dependent structure."
   ]
  },
  {
   "cell_type": "markdown",
   "metadata": {},
   "source": [
    "* Let’s log transform the dataset again to make the distribution of values more linear and better meet the expectations of this statistical test."
   ]
  },
  {
   "cell_type": "code",
   "execution_count": null,
   "metadata": {},
   "outputs": [],
   "source": [
    "tsplot(airline_csv['Passengers'])"
   ]
  },
  {
   "cell_type": "code",
   "execution_count": null,
   "metadata": {
    "scrolled": true
   },
   "outputs": [],
   "source": [
    "tsplot(log(airline_csv['Passengers']))"
   ]
  },
  {
   "cell_type": "code",
   "execution_count": null,
   "metadata": {
    "scrolled": true
   },
   "outputs": [],
   "source": [
    "adf(log(airline_csv['Passengers']))"
   ]
  },
  {
   "cell_type": "markdown",
   "metadata": {},
   "source": [
    "* Negative value for the test statistic.\n",
    "\n",
    "* We can see that the value is larger than the critical values, again, meaning that we can fail to reject the null hypothesis and in turn that the time series is non-stationary."
   ]
  },
  {
   "cell_type": "markdown",
   "metadata": {},
   "source": [
    "==============================================================================================="
   ]
  },
  {
   "cell_type": "markdown",
   "metadata": {},
   "source": [
    "# Stationarity Tests on White Noise"
   ]
  },
  {
   "cell_type": "markdown",
   "metadata": {},
   "source": [
    "## ADF test on White Noise"
   ]
  },
  {
   "cell_type": "markdown",
   "metadata": {},
   "source": [
    "* In this section, we apply ADF test on white noise to determine its stationarity. "
   ]
  },
  {
   "cell_type": "code",
   "execution_count": null,
   "metadata": {},
   "outputs": [],
   "source": [
    "numbers = pd.Series([random.randint(1,100) for i in range(1000)])"
   ]
  },
  {
   "cell_type": "code",
   "execution_count": null,
   "metadata": {},
   "outputs": [],
   "source": [
    "tsplot(numbers)"
   ]
  },
  {
   "cell_type": "code",
   "execution_count": null,
   "metadata": {
    "scrolled": false
   },
   "outputs": [],
   "source": [
    "adf(numbers)"
   ]
  },
  {
   "cell_type": "markdown",
   "metadata": {},
   "source": [
    "* Test statistics is very negative and $p$-value is close to zero.\n",
    "\n",
    "* Statistically speaking, we can reject null hypothesis and conclude that the time series above is stationary with high confidence."
   ]
  },
  {
   "cell_type": "markdown",
   "metadata": {},
   "source": [
    "===================================================================================================================="
   ]
  },
  {
   "cell_type": "markdown",
   "metadata": {},
   "source": [
    "## Kwiatkowski–Phillips–Schmidt–Shin (KPSS) tests"
   ]
  },
  {
   "cell_type": "markdown",
   "metadata": {},
   "source": [
    "* $H_0$: trend stationary around a deterministic trend\n",
    "* $H_1$: presence of unit root "
   ]
  },
  {
   "cell_type": "code",
   "execution_count": null,
   "metadata": {
    "scrolled": true
   },
   "outputs": [],
   "source": [
    "kpss(births_csv['Births'])"
   ]
  },
  {
   "cell_type": "code",
   "execution_count": null,
   "metadata": {},
   "outputs": [],
   "source": [
    "kpss(airline_csv['Passengers'])"
   ]
  },
  {
   "cell_type": "code",
   "execution_count": null,
   "metadata": {
    "scrolled": true
   },
   "outputs": [],
   "source": [
    "kpss(numbers)"
   ]
  }
 ],
 "metadata": {
  "kernelspec": {
   "display_name": "Python 3",
   "language": "python",
   "name": "python3"
  },
  "language_info": {
   "codemirror_mode": {
    "name": "ipython",
    "version": 3
   },
   "file_extension": ".py",
   "mimetype": "text/x-python",
   "name": "python",
   "nbconvert_exporter": "python",
   "pygments_lexer": "ipython3",
   "version": "3.7.3"
  },
  "toc": {
   "base_numbering": 1,
   "nav_menu": {},
   "number_sections": true,
   "sideBar": true,
   "skip_h1_title": false,
   "title_cell": "Table of Contents",
   "title_sidebar": "Contents",
   "toc_cell": false,
   "toc_position": {
    "height": "calc(100% - 180px)",
    "left": "10px",
    "top": "150px",
    "width": "255.995px"
   },
   "toc_section_display": true,
   "toc_window_display": false
  }
 },
 "nbformat": 4,
 "nbformat_minor": 2
}
