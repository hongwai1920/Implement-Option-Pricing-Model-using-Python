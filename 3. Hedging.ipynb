{
 "cells": [
  {
   "cell_type": "markdown",
   "metadata": {},
   "source": [
    "The essence of the Black-Scholes approach to derivatives pricing is that the uncertainty\n",
    "in the final pay-off can be removed by trading in the underlying so try it out\n",
    "in the context of hedging a vanilla call option."
   ]
  },
  {
   "cell_type": "markdown",
   "metadata": {},
   "source": [
    "# The perfect Black-Scholes world"
   ]
  },
  {
   "cell_type": "markdown",
   "metadata": {},
   "source": [
    "Implement an engine which evolves a stock under a geometric Brownian motion with drift $μ$, volatility $\\sigma$, in $N$ steps using the solution for the stochastic differential equation. \n",
    "Write a hedging simulator that accounts for the profits and losses of a hedging strategy against an option payoff, if the interest rate is $r$. \n",
    "Implement the Black-Scholes hedging strategy for a call option: hold a Delta amount of stock across each time step. \n",
    "Obviously, you will need to have already done part of the Vanilla Greeks project for this.\n",
    "\n",
    "Note here we could do the three things quite separately. \n",
    "For the reader au fait\n",
    "with object-oriented programming, one class could handle generation of stock\n",
    "paths, a second could define hedging strategies and the third could take a path\n",
    "generation object and a hedging strategy object and actually carry out the simulation.\n",
    "The best way to approach this would be to use abstract base classes for the\n",
    "path generation and the hedging strategy from which the specific classes could then\n",
    "be inherited. If the simulator then takes in objects from the abstract base classes,\n",
    "new strategies and generators can easily be plugged in later."
   ]
  },
  {
   "cell_type": "markdown",
   "metadata": {},
   "source": [
    "# Assessing step-size dependence"
   ]
  },
  {
   "cell_type": "markdown",
   "metadata": {},
   "source": [
    "Use the hedging simulator to compute the variance of the Delta hedging strategy for various input parameters. \n",
    "Plot the variance against the time-step size.\n",
    "How is the variance affected by changing $\\mu$ and $\\sigma$?"
   ]
  },
  {
   "cell_type": "markdown",
   "metadata": {},
   "source": [
    "# The stop-loss strategy"
   ]
  },
  {
   "cell_type": "markdown",
   "metadata": {},
   "source": [
    "Implement the stop-loss hedging strategy: across a time step hold one unit of stock if spot is greater than or equal to the call option strike and none otherwise. \n",
    "How does the variance change with step size? \n",
    "How are the mean and variance of the final portfolio affected by changing $\\mu$ and $\\sigma$?"
   ]
  },
  {
   "cell_type": "markdown",
   "metadata": {},
   "source": [
    "# Gamma hedging"
   ]
  },
  {
   "cell_type": "markdown",
   "metadata": {},
   "source": [
    "Extend the hedging simulator to allow hedging with options. \n",
    "Implement the Gamma hedging of a far-out-of-the-money option with spot and another option. \n",
    "How does the variance change with time-step size?"
   ]
  },
  {
   "cell_type": "markdown",
   "metadata": {},
   "source": [
    "# Time-dependent volatility"
   ]
  },
  {
   "cell_type": "markdown",
   "metadata": {},
   "source": [
    "We now try hedging our option when volatility is time-dependent but deterministic.\n",
    "We therefore have\n",
    "$$\\frac{dS}{S} = \\mu dt + \\sigma(t) dW_t.$$\n",
    "To simulate perfectly across a time-step, we take the root-mean-square volatility for that step and put\n",
    "$$S_{t+\\Delta t} = S_t e^{(\\mu - \\frac{1}{2}\\overline{\\sigma}^2)\\Delta t + \\overline{\\sigma} \\sqrt{\\Delta t}  N(0,1) }$$\n",
    "with $\\overline{\\sigma}$ the root-mean-square value of $\\sigma(t)$ across $[t,t+\\Delta t]$, and $N(0, 1)$ a normal draw.\n",
    "\n",
    "Implement the following hedging methods:\n",
    "\n",
    "(i) Delta hedge using the current value of $\\sigma(t)$ in the formula for the Black-Scholes Delta;\n",
    "\n",
    "(ii) Delta hedge using the root-mean-square value of $\\sigma(t)$ across $[0,T]$ at all times;\n",
    "\n",
    "(iii) Delta hedge using the root-mean-square value of $\\sigma(t)$ across $[s,T]$ at time $s$.\n",
    "\n",
    "For each method, plot the graph of the variance of final portfolio value against time-step size. \n",
    "Extrapolate to get the variance for instantaneous hedging. \n",
    "Which one works perfectly, and why is it the only one that does?"
   ]
  },
  {
   "cell_type": "code",
   "execution_count": null,
   "metadata": {},
   "outputs": [],
   "source": []
  },
  {
   "cell_type": "code",
   "execution_count": null,
   "metadata": {},
   "outputs": [],
   "source": []
  },
  {
   "cell_type": "code",
   "execution_count": null,
   "metadata": {},
   "outputs": [],
   "source": []
  },
  {
   "cell_type": "code",
   "execution_count": null,
   "metadata": {},
   "outputs": [],
   "source": []
  },
  {
   "cell_type": "code",
   "execution_count": null,
   "metadata": {},
   "outputs": [],
   "source": []
  },
  {
   "cell_type": "code",
   "execution_count": null,
   "metadata": {},
   "outputs": [],
   "source": []
  }
 ],
 "metadata": {
  "kernelspec": {
   "display_name": "Python 3",
   "language": "python",
   "name": "python3"
  },
  "language_info": {
   "codemirror_mode": {
    "name": "ipython",
    "version": 3
   },
   "file_extension": ".py",
   "mimetype": "text/x-python",
   "name": "python",
   "nbconvert_exporter": "python",
   "pygments_lexer": "ipython3",
   "version": "3.7.3"
  },
  "toc": {
   "base_numbering": 1,
   "nav_menu": {},
   "number_sections": true,
   "sideBar": true,
   "skip_h1_title": false,
   "title_cell": "Table of Contents",
   "title_sidebar": "Contents",
   "toc_cell": false,
   "toc_position": {},
   "toc_section_display": true,
   "toc_window_display": false
  }
 },
 "nbformat": 4,
 "nbformat_minor": 2
}
